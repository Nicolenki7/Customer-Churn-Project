{
  "cells": [
    {
      "cell_type": "markdown",
      "metadata": {
        "id": "view-in-github",
        "colab_type": "text"
      },
      "source": [
        "<a href=\"https://colab.research.google.com/github/Nicolenki7/Customer-Churn-Project/blob/main/Customer_Churn_Python%2BSQlite.ipynb\" target=\"_parent\"><img src=\"https://colab.research.google.com/assets/colab-badge.svg\" alt=\"Open In Colab\"/></a>"
      ]
    },
    {
      "cell_type": "code",
      "source": [
        "# 1. Importar la librería Pandas\n",
        "import pandas as pd\n",
        "\n",
        "# 2. Cargar el dataset\n",
        "# Asegúrate de que el archivo 'WA_Fn-UseC_-Telco-Customer-Churn.csv' esté en el mismo directorio.\n",
        "df = pd.read_csv('WA_Fn-UseC_-Telco-Customer-Churn.csv')\n",
        "\n",
        "# 3. Inspección inicial (mostrar las primeras 5 filas y la información de tipos de datos)\n",
        "print(\"--- Primeras Filas del Dataset ---\")\n",
        "print(df.head())\n",
        "print(\"\\n--- Información de Tipos de Datos (Dtypes) ---\")\n",
        "df.info()"
      ],
      "metadata": {
        "id": "ZlbnIML8Yfg6",
        "colab": {
          "base_uri": "https://localhost:8080/"
        },
        "outputId": "f8d6a5d4-6010-49b3-a169-faf1223fb2fa"
      },
      "execution_count": 1,
      "outputs": [
        {
          "output_type": "stream",
          "name": "stdout",
          "text": [
            "--- Primeras Filas del Dataset ---\n",
            "   customerID  gender  SeniorCitizen Partner Dependents  tenure PhoneService  \\\n",
            "0  7590-VHVEG  Female              0     Yes         No       1           No   \n",
            "1  5575-GNVDE    Male              0      No         No      34          Yes   \n",
            "2  3668-QPYBK    Male              0      No         No       2          Yes   \n",
            "3  7795-CFOCW    Male              0      No         No      45           No   \n",
            "4  9237-HQITU  Female              0      No         No       2          Yes   \n",
            "\n",
            "      MultipleLines InternetService OnlineSecurity  ... DeviceProtection  \\\n",
            "0  No phone service             DSL             No  ...               No   \n",
            "1                No             DSL            Yes  ...              Yes   \n",
            "2                No             DSL            Yes  ...               No   \n",
            "3  No phone service             DSL            Yes  ...              Yes   \n",
            "4                No     Fiber optic             No  ...               No   \n",
            "\n",
            "  TechSupport StreamingTV StreamingMovies        Contract PaperlessBilling  \\\n",
            "0          No          No              No  Month-to-month              Yes   \n",
            "1          No          No              No        One year               No   \n",
            "2          No          No              No  Month-to-month              Yes   \n",
            "3         Yes          No              No        One year               No   \n",
            "4          No          No              No  Month-to-month              Yes   \n",
            "\n",
            "               PaymentMethod MonthlyCharges  TotalCharges Churn  \n",
            "0           Electronic check          29.85         29.85    No  \n",
            "1               Mailed check          56.95        1889.5    No  \n",
            "2               Mailed check          53.85        108.15   Yes  \n",
            "3  Bank transfer (automatic)          42.30       1840.75    No  \n",
            "4           Electronic check          70.70        151.65   Yes  \n",
            "\n",
            "[5 rows x 21 columns]\n",
            "\n",
            "--- Información de Tipos de Datos (Dtypes) ---\n",
            "<class 'pandas.core.frame.DataFrame'>\n",
            "RangeIndex: 7043 entries, 0 to 7042\n",
            "Data columns (total 21 columns):\n",
            " #   Column            Non-Null Count  Dtype  \n",
            "---  ------            --------------  -----  \n",
            " 0   customerID        7043 non-null   object \n",
            " 1   gender            7043 non-null   object \n",
            " 2   SeniorCitizen     7043 non-null   int64  \n",
            " 3   Partner           7043 non-null   object \n",
            " 4   Dependents        7043 non-null   object \n",
            " 5   tenure            7043 non-null   int64  \n",
            " 6   PhoneService      7043 non-null   object \n",
            " 7   MultipleLines     7043 non-null   object \n",
            " 8   InternetService   7043 non-null   object \n",
            " 9   OnlineSecurity    7043 non-null   object \n",
            " 10  OnlineBackup      7043 non-null   object \n",
            " 11  DeviceProtection  7043 non-null   object \n",
            " 12  TechSupport       7043 non-null   object \n",
            " 13  StreamingTV       7043 non-null   object \n",
            " 14  StreamingMovies   7043 non-null   object \n",
            " 15  Contract          7043 non-null   object \n",
            " 16  PaperlessBilling  7043 non-null   object \n",
            " 17  PaymentMethod     7043 non-null   object \n",
            " 18  MonthlyCharges    7043 non-null   float64\n",
            " 19  TotalCharges      7043 non-null   object \n",
            " 20  Churn             7043 non-null   object \n",
            "dtypes: float64(1), int64(2), object(18)\n",
            "memory usage: 1.1+ MB\n"
          ]
        }
      ]
    },
    {
      "cell_type": "code",
      "source": [
        "# Convertir la columna 'TotalCharges' a tipo numérico (float)\n",
        "# Los valores no numéricos se convertirán a NaN.\n",
        "df['TotalCharges'] = pd.to_numeric(df['TotalCharges'], errors='coerce')\n",
        "\n",
        "# Verificar cuántos valores NaN se generaron (estos son los clientes nuevos con total=0)\n",
        "print(\"\\n--- Conteo de Valores Faltantes (NaN) en TotalCharges ---\")\n",
        "print(df['TotalCharges'].isnull().sum())"
      ],
      "metadata": {
        "colab": {
          "base_uri": "https://localhost:8080/"
        },
        "id": "b94NKIHOZVm7",
        "outputId": "7c9c0972-5e5d-4574-9ece-7a19946b4f45"
      },
      "execution_count": 2,
      "outputs": [
        {
          "output_type": "stream",
          "name": "stdout",
          "text": [
            "\n",
            "--- Conteo de Valores Faltantes (NaN) en TotalCharges ---\n",
            "11\n"
          ]
        }
      ]
    },
    {
      "cell_type": "code",
      "source": [
        "# Reemplazar los valores NaN en 'TotalCharges' por 0.0\n",
        "# Esto asume que los clientes con NaN son clientes nuevos que aún no han pagado un cargo total.\n",
        "df['TotalCharges'].fillna(0, inplace=True)\n",
        "\n",
        "# Verificar que ya no hay valores faltantes en 'TotalCharges'\n",
        "print(\"\\n--- Verificación de Valores Faltantes después de la Imputación ---\")\n",
        "print(df['TotalCharges'].isnull().sum())"
      ],
      "metadata": {
        "colab": {
          "base_uri": "https://localhost:8080/"
        },
        "id": "hTFKLKSrZa16",
        "outputId": "db279713-5bf0-4f96-83ca-5bb1373094ef"
      },
      "execution_count": 3,
      "outputs": [
        {
          "output_type": "stream",
          "name": "stdout",
          "text": [
            "\n",
            "--- Verificación de Valores Faltantes después de la Imputación ---\n",
            "0\n"
          ]
        },
        {
          "output_type": "stream",
          "name": "stderr",
          "text": [
            "/tmp/ipython-input-3477206730.py:3: FutureWarning: A value is trying to be set on a copy of a DataFrame or Series through chained assignment using an inplace method.\n",
            "The behavior will change in pandas 3.0. This inplace method will never work because the intermediate object on which we are setting values always behaves as a copy.\n",
            "\n",
            "For example, when doing 'df[col].method(value, inplace=True)', try using 'df.method({col: value}, inplace=True)' or df[col] = df[col].method(value) instead, to perform the operation inplace on the original object.\n",
            "\n",
            "\n",
            "  df['TotalCharges'].fillna(0, inplace=True)\n"
          ]
        }
      ]
    },
    {
      "cell_type": "code",
      "source": [
        "# Codificar la variable objetivo 'Churn': 'Yes' -> 1, 'No' -> 0\n",
        "df['Churn'] = df['Churn'].replace({'Yes': 1, 'No': 0})\n",
        "\n",
        "# Opcional: Codificar otras variables binarias (Sí/No) de alto impacto\n",
        "# Se pueden agrupar en una lista y aplicar la misma transformación:\n",
        "bin_cols = ['Partner', 'Dependents', 'PhoneService', 'PaperlessBilling']\n",
        "\n",
        "for col in bin_cols:\n",
        "    df[col] = df[col].replace({'Yes': 1, 'No': 0})\n",
        "\n",
        "print(\"\\n--- Valores Únicos en Columna Churn (Verificación) ---\")\n",
        "print(df['Churn'].unique())"
      ],
      "metadata": {
        "colab": {
          "base_uri": "https://localhost:8080/"
        },
        "id": "K8cThqECZkEC",
        "outputId": "983df309-d04c-4521-8ea9-2088b735f614"
      },
      "execution_count": 4,
      "outputs": [
        {
          "output_type": "stream",
          "name": "stdout",
          "text": [
            "\n",
            "--- Valores Únicos en Columna Churn (Verificación) ---\n",
            "[0 1]\n"
          ]
        },
        {
          "output_type": "stream",
          "name": "stderr",
          "text": [
            "/tmp/ipython-input-3059931602.py:2: FutureWarning: Downcasting behavior in `replace` is deprecated and will be removed in a future version. To retain the old behavior, explicitly call `result.infer_objects(copy=False)`. To opt-in to the future behavior, set `pd.set_option('future.no_silent_downcasting', True)`\n",
            "  df['Churn'] = df['Churn'].replace({'Yes': 1, 'No': 0})\n",
            "/tmp/ipython-input-3059931602.py:9: FutureWarning: Downcasting behavior in `replace` is deprecated and will be removed in a future version. To retain the old behavior, explicitly call `result.infer_objects(copy=False)`. To opt-in to the future behavior, set `pd.set_option('future.no_silent_downcasting', True)`\n",
            "  df[col] = df[col].replace({'Yes': 1, 'No': 0})\n"
          ]
        }
      ]
    },
    {
      "cell_type": "code",
      "source": [
        "# Columnas que contienen el valor 'No internet service'\n",
        "internet_service_cols = [\n",
        "    'OnlineSecurity', 'OnlineBackup', 'DeviceProtection',\n",
        "    'TechSupport', 'StreamingTV', 'StreamingMovies'\n",
        "]\n",
        "\n",
        "# Reemplazar 'No internet service' por 'No'\n",
        "# Esto hace que la categoría 'No' incluya tanto a los que no tienen el servicio específico\n",
        "# como a los que no tienen el servicio de Internet en absoluto.\n",
        "for col in internet_service_cols:\n",
        "    df[col] = df[col].replace('No internet service', 'No')\n",
        "\n",
        "# Verificar los valores únicos en una columna ejemplo (deberían ser solo 'Yes' o 'No')\n",
        "print(\"\\n--- Valores Únicos Consolidados en OnlineSecurity ---\")\n",
        "print(df['OnlineSecurity'].unique())"
      ],
      "metadata": {
        "colab": {
          "base_uri": "https://localhost:8080/"
        },
        "id": "ZRTCveKbZprl",
        "outputId": "8bd0e8f6-f4b2-4150-c6ce-a1f096a05f96"
      },
      "execution_count": 5,
      "outputs": [
        {
          "output_type": "stream",
          "name": "stdout",
          "text": [
            "\n",
            "--- Valores Únicos Consolidados en OnlineSecurity ---\n",
            "['No' 'Yes']\n"
          ]
        }
      ]
    },
    {
      "cell_type": "code",
      "source": [
        "# Eliminar la columna 'customerID' ya que no es necesaria para el análisis o el modelo\n",
        "df.drop('customerID', axis=1, inplace=True)\n",
        "\n",
        "print(\"\\n--- Columnas Restantes después de Eliminar customerID ---\")\n",
        "print(df.columns.tolist())"
      ],
      "metadata": {
        "colab": {
          "base_uri": "https://localhost:8080/"
        },
        "id": "s1RUlXxuZtIj",
        "outputId": "00abad46-9e0a-40d5-9785-15f81cb92711"
      },
      "execution_count": 6,
      "outputs": [
        {
          "output_type": "stream",
          "name": "stdout",
          "text": [
            "\n",
            "--- Columnas Restantes después de Eliminar customerID ---\n",
            "['gender', 'SeniorCitizen', 'Partner', 'Dependents', 'tenure', 'PhoneService', 'MultipleLines', 'InternetService', 'OnlineSecurity', 'OnlineBackup', 'DeviceProtection', 'TechSupport', 'StreamingTV', 'StreamingMovies', 'Contract', 'PaperlessBilling', 'PaymentMethod', 'MonthlyCharges', 'TotalCharges', 'Churn']\n"
          ]
        }
      ]
    },
    {
      "cell_type": "code",
      "source": [
        "# Guardar el DataFrame df (limpio y listo) en un nuevo archivo CSV.\n",
        "# Esto asegura que los cambios realizados en Python se mantengan.\n",
        "\n",
        "# 1. Definir el nombre del archivo de salida\n",
        "output_file = 'telco_churn_limpio.csv'\n",
        "\n",
        "# 2. Exportar el DataFrame a CSV\n",
        "# index=False es crucial para evitar que la columna de índice de Pandas se guarde como una nueva columna.\n",
        "df.to_csv(output_file, index=False)\n",
        "\n",
        "print(f\"\\n--- Exportación Exitosa ---\")\n",
        "print(f\"El DataFrame limpio se ha guardado como: {output_file}\")\n",
        "print(\"¡El archivo está listo para ser importado en SQL!\")"
      ],
      "metadata": {
        "colab": {
          "base_uri": "https://localhost:8080/"
        },
        "id": "GB6t82jRbLTx",
        "outputId": "6f567df8-58d9-4ec3-8263-7c3238a4bcd5"
      },
      "execution_count": 7,
      "outputs": [
        {
          "output_type": "stream",
          "name": "stdout",
          "text": [
            "\n",
            "--- Exportación Exitosa ---\n",
            "El DataFrame limpio se ha guardado como: telco_churn_limpio.csv\n",
            "¡El archivo está listo para ser importado en SQL!\n"
          ]
        }
      ]
    },
    {
      "cell_type": "code",
      "source": [
        "import sqlite3\n",
        "\n",
        "# 1. Conectar a una base de datos SQLite (si no existe, la crea)\n",
        "conn = sqlite3.connect('telco_churn_db.sqlite')\n",
        "cursor = conn.cursor()\n",
        "\n",
        "# 2. Cargar el DataFrame limpio en una tabla de SQLite\n",
        "# name='churn_data' será el nombre de la tabla en tu base de datos\n",
        "df.to_sql('churn_data', conn, if_exists='replace', index=False)\n",
        "\n",
        "print(\"\\n--- Carga en SQLite Exitosa ---\")\n",
        "print(\"Tabla 'churn_data' creada.\")"
      ],
      "metadata": {
        "colab": {
          "base_uri": "https://localhost:8080/"
        },
        "id": "J4z6bHsWcokO",
        "outputId": "698038a9-55c4-44cb-ed34-7e1fa4ed1984"
      },
      "execution_count": 8,
      "outputs": [
        {
          "output_type": "stream",
          "name": "stdout",
          "text": [
            "\n",
            "--- Carga en SQLite Exitosa ---\n",
            "Tabla 'churn_data' creada.\n"
          ]
        }
      ]
    },
    {
      "cell_type": "code",
      "source": [
        "# Consulta SQL Estratégica para el Feature Engineering\n",
        "sql_query = \"\"\"\n",
        "SELECT\n",
        "    *,\n",
        "    CASE\n",
        "        WHEN tenure <= 12 THEN '0-1 Year'\n",
        "        WHEN tenure > 12 AND tenure <= 36 THEN '1-3 Years'\n",
        "        WHEN tenure > 36 AND tenure <= 60 THEN '3-5 Years'\n",
        "        ELSE '5+ Years'\n",
        "    END AS Seniority_Category,\n",
        "    CASE\n",
        "        WHEN MonthlyCharges < 30 THEN 'Low'\n",
        "        WHEN MonthlyCharges >= 30 AND MonthlyCharges < 80 THEN 'Medium'\n",
        "        ELSE 'High'\n",
        "    END AS Monthly_Charges_Level\n",
        "FROM\n",
        "    churn_data;\n",
        "\"\"\"\n",
        "\n",
        "# Ejecutar la consulta y guardar el resultado en un nuevo DataFrame de Pandas\n",
        "df_fe = pd.read_sql_query(sql_query, conn)\n",
        "\n",
        "# 3. Cerrar la conexión a la base de datos\n",
        "conn.close()\n",
        "\n",
        "print(\"\\n--- Feature Engineering en SQL Exitoso ---\")\n",
        "print(\"Nuevas columnas generadas:\")\n",
        "print(df_fe[['tenure', 'Seniority_Category', 'MonthlyCharges', 'Monthly_Charges_Level']].head())"
      ],
      "metadata": {
        "colab": {
          "base_uri": "https://localhost:8080/"
        },
        "id": "jX4ax2Pccrd4",
        "outputId": "9ca8e8e7-cdca-40d2-fc79-a314b86c4093"
      },
      "execution_count": 9,
      "outputs": [
        {
          "output_type": "stream",
          "name": "stdout",
          "text": [
            "\n",
            "--- Feature Engineering en SQL Exitoso ---\n",
            "Nuevas columnas generadas:\n",
            "   tenure Seniority_Category  MonthlyCharges Monthly_Charges_Level\n",
            "0       1           0-1 Year           29.85                   Low\n",
            "1      34          1-3 Years           56.95                Medium\n",
            "2       2           0-1 Year           53.85                Medium\n",
            "3      45          3-5 Years           42.30                Medium\n",
            "4       2           0-1 Year           70.70                Medium\n"
          ]
        }
      ]
    },
    {
      "cell_type": "code",
      "source": [
        "# 1. Importar la función de descarga de Google Colab\n",
        "from google.colab import files\n",
        "\n",
        "# 2. Definir el nombre del archivo final\n",
        "# Es crucial usar un nombre descriptivo para tu portafolio\n",
        "FINAL_CSV_FILE = 'telco_churn_feature_engineered_for_tableau.csv'\n",
        "\n",
        "# 3. Guardar el DataFrame final (df_fe) como un archivo CSV\n",
        "# Asegúrate de usar 'df_fe', que es el DataFrame que contiene las nuevas columnas de SQL\n",
        "# index=False es fundamental para no añadir una columna de índice innecesaria\n",
        "df_fe.to_csv(FINAL_CSV_FILE, index=False)\n",
        "\n",
        "# 4. Forzar la descarga del archivo a tu sistema local\n",
        "# Esto abrirá una ventana de descarga en tu navegador\n",
        "files.download(FINAL_CSV_FILE)\n",
        "\n",
        "print(f\"\\n--- Descarga Iniciada ---\")\n",
        "print(f\"El archivo '{FINAL_CSV_FILE}' se ha guardado y la descarga a tu PC ha comenzado.\")"
      ],
      "metadata": {
        "colab": {
          "base_uri": "https://localhost:8080/",
          "height": 89
        },
        "id": "TH4TRtW4dKEN",
        "outputId": "9827ed85-a511-420a-a4e8-8d4d4a5b54d1"
      },
      "execution_count": 10,
      "outputs": [
        {
          "output_type": "display_data",
          "data": {
            "text/plain": [
              "<IPython.core.display.Javascript object>"
            ],
            "application/javascript": [
              "\n",
              "    async function download(id, filename, size) {\n",
              "      if (!google.colab.kernel.accessAllowed) {\n",
              "        return;\n",
              "      }\n",
              "      const div = document.createElement('div');\n",
              "      const label = document.createElement('label');\n",
              "      label.textContent = `Downloading \"${filename}\": `;\n",
              "      div.appendChild(label);\n",
              "      const progress = document.createElement('progress');\n",
              "      progress.max = size;\n",
              "      div.appendChild(progress);\n",
              "      document.body.appendChild(div);\n",
              "\n",
              "      const buffers = [];\n",
              "      let downloaded = 0;\n",
              "\n",
              "      const channel = await google.colab.kernel.comms.open(id);\n",
              "      // Send a message to notify the kernel that we're ready.\n",
              "      channel.send({})\n",
              "\n",
              "      for await (const message of channel.messages) {\n",
              "        // Send a message to notify the kernel that we're ready.\n",
              "        channel.send({})\n",
              "        if (message.buffers) {\n",
              "          for (const buffer of message.buffers) {\n",
              "            buffers.push(buffer);\n",
              "            downloaded += buffer.byteLength;\n",
              "            progress.value = downloaded;\n",
              "          }\n",
              "        }\n",
              "      }\n",
              "      const blob = new Blob(buffers, {type: 'application/binary'});\n",
              "      const a = document.createElement('a');\n",
              "      a.href = window.URL.createObjectURL(blob);\n",
              "      a.download = filename;\n",
              "      div.appendChild(a);\n",
              "      a.click();\n",
              "      div.remove();\n",
              "    }\n",
              "  "
            ]
          },
          "metadata": {}
        },
        {
          "output_type": "display_data",
          "data": {
            "text/plain": [
              "<IPython.core.display.Javascript object>"
            ],
            "application/javascript": [
              "download(\"download_9bd2fed6-835f-4357-afd8-11dfd0752569\", \"telco_churn_feature_engineered_for_tableau.csv\", 791513)"
            ]
          },
          "metadata": {}
        },
        {
          "output_type": "stream",
          "name": "stdout",
          "text": [
            "\n",
            "--- Descarga Iniciada ---\n",
            "El archivo 'telco_churn_feature_engineered_for_tableau.csv' se ha guardado y la descarga a tu PC ha comenzado.\n"
          ]
        }
      ]
    }
  ],
  "metadata": {
    "colab": {
      "provenance": [],
      "include_colab_link": true
    },
    "kernelspec": {
      "display_name": "Python 3",
      "name": "python3"
    }
  },
  "nbformat": 4,
  "nbformat_minor": 0
}